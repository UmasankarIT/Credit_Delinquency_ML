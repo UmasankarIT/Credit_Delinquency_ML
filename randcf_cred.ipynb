{
 "cells": [
  {
   "cell_type": "code",
   "execution_count": null,
   "id": "5bf317b8",
   "metadata": {},
   "outputs": [
    {
     "name": "stdout",
     "output_type": "stream",
     "text": [
      "Fitting 5 folds for each of 24 candidates, totalling 120 fits\n",
      "Best hyperparameters: {'rf__max_depth': 20, 'rf__min_samples_leaf': 1, 'rf__min_samples_split': 2, 'rf__n_estimators': 100}\n",
      "Accuracy: 0.99375\n",
      "Confusion Matrix:\n",
      " [[84  0]\n",
      " [ 1 75]]\n",
      "              precision    recall  f1-score   support\n",
      "\n",
      "           0       0.99      1.00      0.99        84\n",
      "           1       1.00      0.99      0.99        76\n",
      "\n",
      "    accuracy                           0.99       160\n",
      "   macro avg       0.99      0.99      0.99       160\n",
      "weighted avg       0.99      0.99      0.99       160\n",
      "\n",
      "ROC AUC Score: 0.9939692982456141\n"
     ]
    }
   ],
   "source": [
    "import pandas as pd\n",
    "from sklearn.model_selection import train_test_split, GridSearchCV\n",
    "from sklearn.preprocessing import StandardScaler, OneHotEncoder\n",
    "from sklearn.compose import ColumnTransformer\n",
    "from imblearn.pipeline import Pipeline\n",
    "from imblearn.over_sampling import SMOTE\n",
    "from sklearn.ensemble import RandomForestClassifier\n",
    "from sklearn.metrics import accuracy_score, classification_report, confusion_matrix, roc_auc_score\n",
    "\n",
    "# Load your dataset\n",
    "df = pd.read_excel(\"combined_delinquency_data.xlsx\")  # Replace with your actual file\n",
    "\n",
    "# Define features and target\n",
    "X = df.drop(\"Delinquent_Account\", axis=1)  # Replace with your actual target column name\n",
    "y = df[\"Delinquent_Account\"]\n",
    "\n",
    "# Split data with stratify to keep class balance in train/test sets\n",
    "X_train, X_test, y_train, y_test = train_test_split(\n",
    "    X, y, test_size=0.2, random_state=42, stratify=y\n",
    ")\n",
    "\n",
    "# List categorical columns, including Month_1 to Month_6 if they have string status values\n",
    "categorical_cols = [\n",
    "    'Employment_Status', 'Credit_Card_Type', 'Location',\n",
    "    'Month_1', 'Month_2', 'Month_3', 'Month_4', 'Month_5', 'Month_6'\n",
    "]\n",
    "\n",
    "# Numerical columns are all others\n",
    "numerical_cols = [col for col in X.columns if col not in categorical_cols]\n",
    "\n",
    "preprocessor = ColumnTransformer(\n",
    "    transformers=[\n",
    "        ('num', StandardScaler(), numerical_cols),\n",
    "        ('cat', OneHotEncoder(), categorical_cols)\n",
    "    ]\n",
    ")\n",
    "\n",
    "# Pipeline with preprocessing, SMOTE, and Logistic Regression\n",
    "pipeline = Pipeline([\n",
    "    ('preprocessor', preprocessor),\n",
    "    ('smote', SMOTE(random_state=42)),\n",
    "    ('rf', RandomForestClassifier(random_state=42))\n",
    "])\n",
    "\n",
    "# Grid of parameters to search\n",
    "param_grid = {\n",
    "    'rf__n_estimators': [100, 200],\n",
    "    'rf__max_depth': [None, 10, 20],\n",
    "    'rf__min_samples_split': [2, 5],\n",
    "    'rf__min_samples_leaf': [1, 2]\n",
    "}\n",
    "\n",
    "# GridSearchCV setup\n",
    "grid_search = GridSearchCV(\n",
    "    pipeline,\n",
    "    param_grid,\n",
    "    scoring='roc_auc',\n",
    "    cv=5,\n",
    "    n_jobs=-1,\n",
    "    verbose=2\n",
    ")\n",
    "\n",
    "# Fit GridSearch to training data\n",
    "grid_search.fit(X_train, y_train)\n",
    "\n",
    "# Best model evaluation on test set\n",
    "best_model = grid_search.best_estimator_\n",
    "y_pred = best_model.predict(X_test)\n",
    "y_prob = best_model.predict_proba(X_test)[:, 1]\n",
    "\n",
    "print(\"Best hyperparameters:\", grid_search.best_params_)\n",
    "print(\"Accuracy:\", accuracy_score(y_test, y_pred))\n",
    "print(\"Confusion Matrix:\\n\", confusion_matrix(y_test, y_pred))\n",
    "print(classification_report(y_test, y_pred))\n",
    "print(\"ROC AUC Score:\", roc_auc_score(y_test, y_prob))"
   ]
  },
  {
   "cell_type": "code",
   "execution_count": 4,
   "id": "58b90f36",
   "metadata": {},
   "outputs": [
    {
     "name": "stdout",
     "output_type": "stream",
     "text": [
      "✅ Full dataset with risk status saved to 'full_dataset_with_risk_status.xlsx'\n"
     ]
    }
   ],
   "source": [
    "# ===== Predict Risk for Full Dataset =====\n",
    "y_pred_full = grid_search.best_estimator_.predict(X)  # X is full feature set\n",
    "\n",
    "# Add the predictions to the original DataFrame\n",
    "df_with_labels = df.copy()\n",
    "df_with_labels['Risk Status'] = pd.Series(y_pred_full).map({0: 'Not at Risk', 1: 'At Risk'})\n",
    "\n",
    "# Save to Excel\n",
    "df_with_labels.to_excel('full_dataset_with_risk_status_rcf.xlsx', index=False)\n",
    "\n",
    "print(\"✅ Full dataset with risk status saved to 'full_dataset_with_risk_status.xlsx'\")\n"
   ]
  },
  {
   "cell_type": "code",
   "execution_count": 5,
   "id": "9b1b97e1",
   "metadata": {},
   "outputs": [
    {
     "name": "stdout",
     "output_type": "stream",
     "text": [
      "✅ Files saved:\n",
      " - at_risk.xlsx (people at risk)\n",
      " - not_at_risk.xlsx (people not at risk)\n"
     ]
    }
   ],
   "source": [
    "import pandas as pd\n",
    "\n",
    "# ===== Predict Risk for Full Dataset =====\n",
    "y_pred_full = grid_search.best_estimator_.predict(X)  # X = full features\n",
    "\n",
    "# Add risk status to DataFrame\n",
    "df_with_labels = df.copy()\n",
    "df_with_labels['Risk Status'] = pd.Series(y_pred_full).map({0: 'Not at Risk', 1: 'At Risk'})\n",
    "\n",
    "# ===== Split into two DataFrames =====\n",
    "df_at_risk = df_with_labels[df_with_labels['Risk Status'] == 'At Risk']\n",
    "df_not_risk = df_with_labels[df_with_labels['Risk Status'] == 'Not at Risk']\n",
    "\n",
    "# ===== Save to separate Excel files =====\n",
    "df_at_risk.to_excel('at_risk.xlsx', index=False)\n",
    "df_not_risk.to_excel('not_at_risk.xlsx', index=False)\n",
    "\n",
    "print(\"✅ Files saved:\")\n",
    "print(\" - at_risk.xlsx (people at risk)\")\n",
    "print(\" - not_at_risk.xlsx (people not at risk)\")\n"
   ]
  }
 ],
 "metadata": {
  "kernelspec": {
   "display_name": "myvenv (3.13.3)",
   "language": "python",
   "name": "python3"
  },
  "language_info": {
   "codemirror_mode": {
    "name": "ipython",
    "version": 3
   },
   "file_extension": ".py",
   "mimetype": "text/x-python",
   "name": "python",
   "nbconvert_exporter": "python",
   "pygments_lexer": "ipython3",
   "version": "3.13.3"
  }
 },
 "nbformat": 4,
 "nbformat_minor": 5
}
