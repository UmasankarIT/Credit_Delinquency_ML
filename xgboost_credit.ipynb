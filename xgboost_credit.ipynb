{
 "cells": [
  {
   "cell_type": "code",
   "execution_count": 3,
   "id": "5ba92c2c",
   "metadata": {},
   "outputs": [
    {
     "name": "stdout",
     "output_type": "stream",
     "text": [
      "Fitting 5 folds for each of 48 candidates, totalling 240 fits\n",
      "Best hyperparameters: {'xgb__colsample_bytree': 1.0, 'xgb__learning_rate': 0.1, 'xgb__max_depth': 7, 'xgb__n_estimators': 200, 'xgb__subsample': 0.8}\n",
      "Accuracy: 0.94375\n"
     ]
    }
   ],
   "source": [
    "import pandas as pd\n",
    "from sklearn.model_selection import train_test_split, GridSearchCV\n",
    "from sklearn.preprocessing import StandardScaler, OneHotEncoder\n",
    "from sklearn.compose import ColumnTransformer\n",
    "from imblearn.pipeline import Pipeline\n",
    "from imblearn.over_sampling import SMOTE\n",
    "from xgboost import XGBClassifier\n",
    "from sklearn.metrics import accuracy_score, classification_report, confusion_matrix, roc_auc_score\n",
    "\n",
    "# Load your dataset\n",
    "df = pd.read_excel(\"combined_delinquency_data.xlsx\")  # Replace with your actual file\n",
    "\n",
    "# Define features and target\n",
    "X = df.drop(\"Delinquent_Account\", axis=1)  # Replace with your actual target column name\n",
    "y = df[\"Delinquent_Account\"]\n",
    "\n",
    "# Split data with stratify to keep class balance in train/test sets\n",
    "X_train, X_test, y_train, y_test = train_test_split(\n",
    "    X, y, test_size=0.2, random_state=42, stratify=y\n",
    ")\n",
    "\n",
    "# List categorical columns, including Month_1 to Month_6 if they have string status values\n",
    "categorical_cols = [\n",
    "    'Employment_Status', 'Credit_Card_Type', 'Location',\n",
    "    'Month_1', 'Month_2', 'Month_3', 'Month_4', 'Month_5', 'Month_6'\n",
    "]\n",
    "\n",
    "# Numerical columns are all others\n",
    "numerical_cols = [col for col in X.columns if col not in categorical_cols]\n",
    "\n",
    "preprocessor = ColumnTransformer(\n",
    "    transformers=[\n",
    "        ('num', StandardScaler(), numerical_cols),\n",
    "        ('cat', OneHotEncoder(), categorical_cols)\n",
    "    ]\n",
    ")\n",
    "\n",
    "# Pipeline with preprocessing, SMOTE, and Logistic Regression\n",
    "pipeline = Pipeline([\n",
    "    ('preprocessor', preprocessor),\n",
    "    ('smote', SMOTE(random_state=42)),\n",
    "    ('xgb', XGBClassifier(eval_metric='logloss',random_state=42))\n",
    "])\n",
    "\n",
    "# Grid of parameters to search\n",
    "param_grid = {\n",
    "    'xgb__n_estimators': [100, 200],\n",
    "    'xgb__max_depth': [3, 5, 7],\n",
    "    'xgb__learning_rate': [0.01, 0.1],\n",
    "    'xgb__subsample': [0.8, 1.0],\n",
    "    'xgb__colsample_bytree': [0.8, 1.0]\n",
    "}\n",
    "\n",
    "\n",
    "# GridSearchCV setup\n",
    "grid_search = GridSearchCV(\n",
    "    pipeline,\n",
    "    param_grid,\n",
    "    scoring='roc_auc',\n",
    "    cv=5,\n",
    "    n_jobs=-1,\n",
    "    verbose=2\n",
    ")\n",
    "\n",
    "# Fit GridSearch to training data\n",
    "grid_search.fit(X_train, y_train)\n",
    "\n",
    "# Best model evaluation on test set\n",
    "best_model = grid_search.best_estimator_\n",
    "y_pred = best_model.predict(X_test)\n",
    "y_prob = best_model.predict_proba(X_test)[:, 1]\n",
    "\n",
    "print(\"Best hyperparameters:\", grid_search.best_params_)\n",
    "print(\"Accuracy:\", accuracy_score(y_test, y_pred))\n"
   ]
  },
  {
   "cell_type": "code",
   "execution_count": 4,
   "id": "4cec7825",
   "metadata": {},
   "outputs": [
    {
     "name": "stdout",
     "output_type": "stream",
     "text": [
      "\n",
      "✅ Files saved:\n",
      " - at_risk_xgb.xlsx (people at risk)\n",
      " - not_at_risk_xgb.xlsx (people not at risk)\n"
     ]
    }
   ],
   "source": [
    "y_pred_full = grid_search.best_estimator_.predict(X)\n",
    "\n",
    "df_with_labels = df.copy()\n",
    "df_with_labels['Risk Status'] = pd.Series(y_pred_full, index=df.index).map({0: 'Not at Risk', 1: 'At Risk'})\n",
    "\n",
    "# ===== 8. Split into Two Files =====\n",
    "df_at_risk = df_with_labels[df_with_labels['Risk Status'] == 'At Risk']\n",
    "df_not_risk = df_with_labels[df_with_labels['Risk Status'] == 'Not at Risk']\n",
    "\n",
    "df_at_risk.to_excel('at_risk_xgb.xlsx', index=False)\n",
    "df_not_risk.to_excel('not_at_risk_xgb.xlsx', index=False)\n",
    "\n",
    "print(\"\\n✅ Files saved:\")\n",
    "print(\" - at_risk_xgb.xlsx (people at risk)\")\n",
    "print(\" - not_at_risk_xgb.xlsx (people not at risk)\")"
   ]
  },
  {
   "cell_type": "code",
   "execution_count": 7,
   "id": "1e073e7c",
   "metadata": {},
   "outputs": [
    {
     "name": "stdout",
     "output_type": "stream",
     "text": [
      "✅ Full dataset with risk labels saved to 'full_risk_labels.xlsx'\n"
     ]
    }
   ],
   "source": [
    "y_pred_full = grid_search.best_estimator_.predict(X)\n",
    "\n",
    "# Add \"Risk Status\" column\n",
    "df[\"Risk Status\"] = [\"At Risk\" if p == 1 else \"Not at Risk\" for p in y_pred_full]\n",
    "\n",
    "# Save single Excel file\n",
    "df.to_excel(\"full_risk_labels_xgb.xlsx\", index=False)\n",
    "print(\"✅ Full dataset with risk labels saved to 'full_risk_labels.xlsx'\")"
   ]
  }
 ],
 "metadata": {
  "kernelspec": {
   "display_name": "myvenv (3.13.3)",
   "language": "python",
   "name": "python3"
  },
  "language_info": {
   "codemirror_mode": {
    "name": "ipython",
    "version": 3
   },
   "file_extension": ".py",
   "mimetype": "text/x-python",
   "name": "python",
   "nbconvert_exporter": "python",
   "pygments_lexer": "ipython3",
   "version": "3.13.3"
  }
 },
 "nbformat": 4,
 "nbformat_minor": 5
}
